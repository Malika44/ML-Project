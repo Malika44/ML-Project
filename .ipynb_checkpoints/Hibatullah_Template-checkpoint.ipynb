{
 "cells": [
  {
   "cell_type": "markdown",
   "id": "de442506",
   "metadata": {},
   "source": [
    "# Machine Learning Project Template\n",
    "* This notebook provides a structured template for building an end-to-end machine learning project.\n",
    "* Re-use this notebook througout your learning and in capstone project"
   ]
  },
  {
   "cell_type": "markdown",
   "id": "7f11ba4e-fd81-4604-b50d-781a9817376a",
   "metadata": {},
   "source": []
  },
  {
   "cell_type": "markdown",
   "id": "e0d85653",
   "metadata": {},
   "source": [
    "## <b> <font color=green> STEP (1) Problem Definition, Scoping & Framing </font> </b>"
   ]
  },
  {
   "cell_type": "markdown",
   "id": "96c4b4ec",
   "metadata": {},
   "source": [
    "### 1.1) Load Libraries\n",
    "Import all necessary libraries for the project."
   ]
  },
  {
   "cell_type": "code",
   "execution_count": 9,
   "id": "e9bf752e",
   "metadata": {},
   "outputs": [],
   "source": [
    "import pandas as pd\n",
    "import numpy as np\n",
    "import matplotlib.pyplot as plt\n",
    "import seaborn as sns\n",
    "from sklearn.model_selection import train_test_split, cross_val_score\n",
    "from sklearn.linear_model import LogisticRegression\n",
    "from sklearn.tree import DecisionTreeClassifier\n",
    "from sklearn.feature_selection import SelectKBest, chi2, mutual_info_classif\n",
    "from sklearn.metrics import classification_report, confusion_matrix, roc_auc_score, roc_curve, accuracy_score\n",
    "from sklearn.preprocessing import StandardScaler, LabelEncoder\n",
    "from sklearn.pipeline import Pipeline\n",
    "from sklearn.impute import SimpleImputer"
   ]
  },
  {
   "cell_type": "markdown",
   "id": "f5dfbd75",
   "metadata": {},
   "source": [
    "### 1.2) Load The Dataset\n",
    "Load the dataset and display the first few rows."
   ]
  },
  {
   "cell_type": "code",
   "execution_count": 6,
   "id": "698af009",
   "metadata": {},
   "outputs": [],
   "source": [
    "movie_df = pd.read_csv ('rotten_tomatoes_movies.csv')"
   ]
  },
  {
   "cell_type": "code",
   "execution_count": 10,
   "id": "12bf3b03-e6e1-4033-a445-0409bee6bcf7",
   "metadata": {},
   "outputs": [
    {
     "data": {
      "text/html": [
       "<div>\n",
       "<style scoped>\n",
       "    .dataframe tbody tr th:only-of-type {\n",
       "        vertical-align: middle;\n",
       "    }\n",
       "\n",
       "    .dataframe tbody tr th {\n",
       "        vertical-align: top;\n",
       "    }\n",
       "\n",
       "    .dataframe thead th {\n",
       "        text-align: right;\n",
       "    }\n",
       "</style>\n",
       "<table border=\"1\" class=\"dataframe\">\n",
       "  <thead>\n",
       "    <tr style=\"text-align: right;\">\n",
       "      <th></th>\n",
       "      <th>rotten_tomatoes_link</th>\n",
       "      <th>movie_title</th>\n",
       "      <th>movie_info</th>\n",
       "      <th>critics_consensus</th>\n",
       "      <th>content_rating</th>\n",
       "      <th>genres</th>\n",
       "      <th>directors</th>\n",
       "      <th>authors</th>\n",
       "      <th>actors</th>\n",
       "      <th>original_release_date</th>\n",
       "      <th>...</th>\n",
       "      <th>production_company</th>\n",
       "      <th>tomatometer_status</th>\n",
       "      <th>tomatometer_rating</th>\n",
       "      <th>tomatometer_count</th>\n",
       "      <th>audience_status</th>\n",
       "      <th>audience_rating</th>\n",
       "      <th>audience_count</th>\n",
       "      <th>tomatometer_top_critics_count</th>\n",
       "      <th>tomatometer_fresh_critics_count</th>\n",
       "      <th>tomatometer_rotten_critics_count</th>\n",
       "    </tr>\n",
       "  </thead>\n",
       "  <tbody>\n",
       "    <tr>\n",
       "      <th>0</th>\n",
       "      <td>m/0814255</td>\n",
       "      <td>Percy Jackson &amp; the Olympians: The Lightning T...</td>\n",
       "      <td>Always trouble-prone, the life of teenager Per...</td>\n",
       "      <td>Though it may seem like just another Harry Pot...</td>\n",
       "      <td>PG</td>\n",
       "      <td>Action &amp; Adventure, Comedy, Drama, Science Fic...</td>\n",
       "      <td>Chris Columbus</td>\n",
       "      <td>Craig Titley, Chris Columbus, Rick Riordan</td>\n",
       "      <td>Logan Lerman, Brandon T. Jackson, Alexandra Da...</td>\n",
       "      <td>2/12/2010</td>\n",
       "      <td>...</td>\n",
       "      <td>20th Century Fox</td>\n",
       "      <td>Rotten</td>\n",
       "      <td>49.0</td>\n",
       "      <td>149.0</td>\n",
       "      <td>Spilled</td>\n",
       "      <td>53.0</td>\n",
       "      <td>254421.0</td>\n",
       "      <td>43</td>\n",
       "      <td>73</td>\n",
       "      <td>76</td>\n",
       "    </tr>\n",
       "    <tr>\n",
       "      <th>1</th>\n",
       "      <td>m/0878835</td>\n",
       "      <td>Please Give</td>\n",
       "      <td>Kate (Catherine Keener) and her husband Alex (...</td>\n",
       "      <td>Nicole Holofcener's newest might seem slight i...</td>\n",
       "      <td>R</td>\n",
       "      <td>Comedy</td>\n",
       "      <td>Nicole Holofcener</td>\n",
       "      <td>Nicole Holofcener</td>\n",
       "      <td>Catherine Keener, Amanda Peet, Oliver Platt, R...</td>\n",
       "      <td>4/30/2010</td>\n",
       "      <td>...</td>\n",
       "      <td>Sony Pictures Classics</td>\n",
       "      <td>Certified-Fresh</td>\n",
       "      <td>87.0</td>\n",
       "      <td>142.0</td>\n",
       "      <td>Upright</td>\n",
       "      <td>64.0</td>\n",
       "      <td>11574.0</td>\n",
       "      <td>44</td>\n",
       "      <td>123</td>\n",
       "      <td>19</td>\n",
       "    </tr>\n",
       "    <tr>\n",
       "      <th>2</th>\n",
       "      <td>m/10</td>\n",
       "      <td>10</td>\n",
       "      <td>A successful, middle-aged Hollywood songwriter...</td>\n",
       "      <td>Blake Edwards' bawdy comedy may not score a pe...</td>\n",
       "      <td>R</td>\n",
       "      <td>Comedy, Romance</td>\n",
       "      <td>Blake Edwards</td>\n",
       "      <td>Blake Edwards</td>\n",
       "      <td>Dudley Moore, Bo Derek, Julie Andrews, Robert ...</td>\n",
       "      <td>10/5/1979</td>\n",
       "      <td>...</td>\n",
       "      <td>Waner Bros.</td>\n",
       "      <td>Fresh</td>\n",
       "      <td>67.0</td>\n",
       "      <td>24.0</td>\n",
       "      <td>Spilled</td>\n",
       "      <td>53.0</td>\n",
       "      <td>14684.0</td>\n",
       "      <td>2</td>\n",
       "      <td>16</td>\n",
       "      <td>8</td>\n",
       "    </tr>\n",
       "    <tr>\n",
       "      <th>3</th>\n",
       "      <td>m/1000013-12_angry_men</td>\n",
       "      <td>12 Angry Men (Twelve Angry Men)</td>\n",
       "      <td>Following the closing arguments in a murder tr...</td>\n",
       "      <td>Sidney Lumet's feature debut is a superbly wri...</td>\n",
       "      <td>NR</td>\n",
       "      <td>Classics, Drama</td>\n",
       "      <td>Sidney Lumet</td>\n",
       "      <td>Reginald Rose</td>\n",
       "      <td>Martin Balsam, John Fiedler, Lee J. Cobb, E.G....</td>\n",
       "      <td>4/13/1957</td>\n",
       "      <td>...</td>\n",
       "      <td>Criterion Collection</td>\n",
       "      <td>Certified-Fresh</td>\n",
       "      <td>100.0</td>\n",
       "      <td>54.0</td>\n",
       "      <td>Upright</td>\n",
       "      <td>97.0</td>\n",
       "      <td>105386.0</td>\n",
       "      <td>6</td>\n",
       "      <td>54</td>\n",
       "      <td>0</td>\n",
       "    </tr>\n",
       "    <tr>\n",
       "      <th>4</th>\n",
       "      <td>m/1000079-20000_leagues_under_the_sea</td>\n",
       "      <td>20,000 Leagues Under The Sea</td>\n",
       "      <td>In 1866, Professor Pierre M. Aronnax (Paul Luk...</td>\n",
       "      <td>One of Disney's finest live-action adventures,...</td>\n",
       "      <td>G</td>\n",
       "      <td>Action &amp; Adventure, Drama, Kids &amp; Family</td>\n",
       "      <td>Richard Fleischer</td>\n",
       "      <td>Earl Felton</td>\n",
       "      <td>James Mason, Kirk Douglas, Paul Lukas, Peter L...</td>\n",
       "      <td>1/1/1954</td>\n",
       "      <td>...</td>\n",
       "      <td>Disney</td>\n",
       "      <td>Fresh</td>\n",
       "      <td>89.0</td>\n",
       "      <td>27.0</td>\n",
       "      <td>Upright</td>\n",
       "      <td>74.0</td>\n",
       "      <td>68918.0</td>\n",
       "      <td>5</td>\n",
       "      <td>24</td>\n",
       "      <td>3</td>\n",
       "    </tr>\n",
       "  </tbody>\n",
       "</table>\n",
       "<p>5 rows × 22 columns</p>\n",
       "</div>"
      ],
      "text/plain": [
       "                    rotten_tomatoes_link  \\\n",
       "0                              m/0814255   \n",
       "1                              m/0878835   \n",
       "2                                   m/10   \n",
       "3                 m/1000013-12_angry_men   \n",
       "4  m/1000079-20000_leagues_under_the_sea   \n",
       "\n",
       "                                         movie_title  \\\n",
       "0  Percy Jackson & the Olympians: The Lightning T...   \n",
       "1                                        Please Give   \n",
       "2                                                 10   \n",
       "3                    12 Angry Men (Twelve Angry Men)   \n",
       "4                       20,000 Leagues Under The Sea   \n",
       "\n",
       "                                          movie_info  \\\n",
       "0  Always trouble-prone, the life of teenager Per...   \n",
       "1  Kate (Catherine Keener) and her husband Alex (...   \n",
       "2  A successful, middle-aged Hollywood songwriter...   \n",
       "3  Following the closing arguments in a murder tr...   \n",
       "4  In 1866, Professor Pierre M. Aronnax (Paul Luk...   \n",
       "\n",
       "                                   critics_consensus content_rating  \\\n",
       "0  Though it may seem like just another Harry Pot...             PG   \n",
       "1  Nicole Holofcener's newest might seem slight i...              R   \n",
       "2  Blake Edwards' bawdy comedy may not score a pe...              R   \n",
       "3  Sidney Lumet's feature debut is a superbly wri...             NR   \n",
       "4  One of Disney's finest live-action adventures,...              G   \n",
       "\n",
       "                                              genres          directors  \\\n",
       "0  Action & Adventure, Comedy, Drama, Science Fic...     Chris Columbus   \n",
       "1                                             Comedy  Nicole Holofcener   \n",
       "2                                    Comedy, Romance      Blake Edwards   \n",
       "3                                    Classics, Drama       Sidney Lumet   \n",
       "4           Action & Adventure, Drama, Kids & Family  Richard Fleischer   \n",
       "\n",
       "                                      authors  \\\n",
       "0  Craig Titley, Chris Columbus, Rick Riordan   \n",
       "1                           Nicole Holofcener   \n",
       "2                               Blake Edwards   \n",
       "3                               Reginald Rose   \n",
       "4                                 Earl Felton   \n",
       "\n",
       "                                              actors original_release_date  \\\n",
       "0  Logan Lerman, Brandon T. Jackson, Alexandra Da...             2/12/2010   \n",
       "1  Catherine Keener, Amanda Peet, Oliver Platt, R...             4/30/2010   \n",
       "2  Dudley Moore, Bo Derek, Julie Andrews, Robert ...             10/5/1979   \n",
       "3  Martin Balsam, John Fiedler, Lee J. Cobb, E.G....             4/13/1957   \n",
       "4  James Mason, Kirk Douglas, Paul Lukas, Peter L...              1/1/1954   \n",
       "\n",
       "   ...      production_company  tomatometer_status tomatometer_rating  \\\n",
       "0  ...        20th Century Fox              Rotten               49.0   \n",
       "1  ...  Sony Pictures Classics     Certified-Fresh               87.0   \n",
       "2  ...             Waner Bros.               Fresh               67.0   \n",
       "3  ...    Criterion Collection     Certified-Fresh              100.0   \n",
       "4  ...                  Disney               Fresh               89.0   \n",
       "\n",
       "  tomatometer_count  audience_status  audience_rating audience_count  \\\n",
       "0             149.0          Spilled             53.0       254421.0   \n",
       "1             142.0          Upright             64.0        11574.0   \n",
       "2              24.0          Spilled             53.0        14684.0   \n",
       "3              54.0          Upright             97.0       105386.0   \n",
       "4              27.0          Upright             74.0        68918.0   \n",
       "\n",
       "   tomatometer_top_critics_count  tomatometer_fresh_critics_count  \\\n",
       "0                             43                               73   \n",
       "1                             44                              123   \n",
       "2                              2                               16   \n",
       "3                              6                               54   \n",
       "4                              5                               24   \n",
       "\n",
       "   tomatometer_rotten_critics_count  \n",
       "0                                76  \n",
       "1                                19  \n",
       "2                                 8  \n",
       "3                                 0  \n",
       "4                                 3  \n",
       "\n",
       "[5 rows x 22 columns]"
      ]
     },
     "execution_count": 10,
     "metadata": {},
     "output_type": "execute_result"
    }
   ],
   "source": [
    "movie_df.head()"
   ]
  },
  {
   "cell_type": "code",
   "execution_count": 11,
   "id": "f6f8011f-494f-49f2-b168-2dd1ec5cb888",
   "metadata": {},
   "outputs": [
    {
     "data": {
      "text/plain": [
       "(17711, 22)"
      ]
     },
     "execution_count": 11,
     "metadata": {},
     "output_type": "execute_result"
    }
   ],
   "source": [
    "movie_df.shape"
   ]
  },
  {
   "cell_type": "code",
   "execution_count": 13,
   "id": "96134334-5d19-445b-b7a2-6224aec1722f",
   "metadata": {},
   "outputs": [
    {
     "name": "stdout",
     "output_type": "stream",
     "text": [
      "<class 'pandas.core.frame.DataFrame'>\n",
      "RangeIndex: 17711 entries, 0 to 17710\n",
      "Data columns (total 22 columns):\n",
      " #   Column                            Non-Null Count  Dtype  \n",
      "---  ------                            --------------  -----  \n",
      " 0   rotten_tomatoes_link              17711 non-null  object \n",
      " 1   movie_title                       17711 non-null  object \n",
      " 2   movie_info                        17390 non-null  object \n",
      " 3   critics_consensus                 9133 non-null   object \n",
      " 4   content_rating                    17711 non-null  object \n",
      " 5   genres                            17692 non-null  object \n",
      " 6   directors                         17517 non-null  object \n",
      " 7   authors                           16169 non-null  object \n",
      " 8   actors                            17359 non-null  object \n",
      " 9   original_release_date             16545 non-null  object \n",
      " 10  streaming_release_date            17327 non-null  object \n",
      " 11  runtime                           17397 non-null  float64\n",
      " 12  production_company                17212 non-null  object \n",
      " 13  tomatometer_status                17667 non-null  object \n",
      " 14  tomatometer_rating                17667 non-null  float64\n",
      " 15  tomatometer_count                 17667 non-null  float64\n",
      " 16  audience_status                   17263 non-null  object \n",
      " 17  audience_rating                   17415 non-null  float64\n",
      " 18  audience_count                    17414 non-null  float64\n",
      " 19  tomatometer_top_critics_count     17711 non-null  int64  \n",
      " 20  tomatometer_fresh_critics_count   17711 non-null  int64  \n",
      " 21  tomatometer_rotten_critics_count  17711 non-null  int64  \n",
      "dtypes: float64(5), int64(3), object(14)\n",
      "memory usage: 3.0+ MB\n"
     ]
    }
   ],
   "source": [
    "movie_df.info()"
   ]
  },
  {
   "cell_type": "markdown",
   "id": "c1871519",
   "metadata": {},
   "source": [
    "## <b> <font color=green> STEP (2) Data Exploration & Understanding </font> </b>"
   ]
  },
  {
   "cell_type": "markdown",
   "id": "7d3c97bd",
   "metadata": {},
   "source": [
    "### 2.1) Descriptive Statistics\n",
    "Generate summary statistics for the dataset."
   ]
  },
  {
   "cell_type": "code",
   "execution_count": 16,
   "id": "7e06039e",
   "metadata": {},
   "outputs": [
    {
     "name": "stdout",
     "output_type": "stream",
     "text": [
      "Numrical Feature Summary:\n"
     ]
    },
    {
     "data": {
      "text/html": [
       "<div>\n",
       "<style scoped>\n",
       "    .dataframe tbody tr th:only-of-type {\n",
       "        vertical-align: middle;\n",
       "    }\n",
       "\n",
       "    .dataframe tbody tr th {\n",
       "        vertical-align: top;\n",
       "    }\n",
       "\n",
       "    .dataframe thead th {\n",
       "        text-align: right;\n",
       "    }\n",
       "</style>\n",
       "<table border=\"1\" class=\"dataframe\">\n",
       "  <thead>\n",
       "    <tr style=\"text-align: right;\">\n",
       "      <th></th>\n",
       "      <th>runtime</th>\n",
       "      <th>tomatometer_rating</th>\n",
       "      <th>tomatometer_count</th>\n",
       "      <th>audience_rating</th>\n",
       "      <th>audience_count</th>\n",
       "      <th>tomatometer_top_critics_count</th>\n",
       "      <th>tomatometer_fresh_critics_count</th>\n",
       "      <th>tomatometer_rotten_critics_count</th>\n",
       "    </tr>\n",
       "  </thead>\n",
       "  <tbody>\n",
       "    <tr>\n",
       "      <th>count</th>\n",
       "      <td>17397.000000</td>\n",
       "      <td>17667.000000</td>\n",
       "      <td>17667.00000</td>\n",
       "      <td>17415.000000</td>\n",
       "      <td>1.741400e+04</td>\n",
       "      <td>17711.000000</td>\n",
       "      <td>17711.000000</td>\n",
       "      <td>17711.000000</td>\n",
       "    </tr>\n",
       "    <tr>\n",
       "      <th>mean</th>\n",
       "      <td>102.213715</td>\n",
       "      <td>60.884587</td>\n",
       "      <td>57.14179</td>\n",
       "      <td>60.555154</td>\n",
       "      <td>1.439477e+05</td>\n",
       "      <td>14.587036</td>\n",
       "      <td>36.376094</td>\n",
       "      <td>20.703856</td>\n",
       "    </tr>\n",
       "    <tr>\n",
       "      <th>std</th>\n",
       "      <td>18.702997</td>\n",
       "      <td>28.444143</td>\n",
       "      <td>68.37147</td>\n",
       "      <td>20.543621</td>\n",
       "      <td>1.763628e+06</td>\n",
       "      <td>15.146481</td>\n",
       "      <td>52.602254</td>\n",
       "      <td>30.249138</td>\n",
       "    </tr>\n",
       "    <tr>\n",
       "      <th>min</th>\n",
       "      <td>5.000000</td>\n",
       "      <td>0.000000</td>\n",
       "      <td>5.00000</td>\n",
       "      <td>0.000000</td>\n",
       "      <td>5.000000e+00</td>\n",
       "      <td>0.000000</td>\n",
       "      <td>0.000000</td>\n",
       "      <td>0.000000</td>\n",
       "    </tr>\n",
       "    <tr>\n",
       "      <th>25%</th>\n",
       "      <td>90.000000</td>\n",
       "      <td>38.000000</td>\n",
       "      <td>12.00000</td>\n",
       "      <td>45.000000</td>\n",
       "      <td>7.072500e+02</td>\n",
       "      <td>3.000000</td>\n",
       "      <td>6.000000</td>\n",
       "      <td>3.000000</td>\n",
       "    </tr>\n",
       "    <tr>\n",
       "      <th>50%</th>\n",
       "      <td>99.000000</td>\n",
       "      <td>67.000000</td>\n",
       "      <td>28.00000</td>\n",
       "      <td>63.000000</td>\n",
       "      <td>4.277000e+03</td>\n",
       "      <td>8.000000</td>\n",
       "      <td>16.000000</td>\n",
       "      <td>8.000000</td>\n",
       "    </tr>\n",
       "    <tr>\n",
       "      <th>75%</th>\n",
       "      <td>111.000000</td>\n",
       "      <td>86.000000</td>\n",
       "      <td>75.00000</td>\n",
       "      <td>78.000000</td>\n",
       "      <td>2.498950e+04</td>\n",
       "      <td>23.000000</td>\n",
       "      <td>44.000000</td>\n",
       "      <td>24.000000</td>\n",
       "    </tr>\n",
       "    <tr>\n",
       "      <th>max</th>\n",
       "      <td>266.000000</td>\n",
       "      <td>100.000000</td>\n",
       "      <td>574.00000</td>\n",
       "      <td>100.000000</td>\n",
       "      <td>3.579764e+07</td>\n",
       "      <td>69.000000</td>\n",
       "      <td>497.000000</td>\n",
       "      <td>303.000000</td>\n",
       "    </tr>\n",
       "  </tbody>\n",
       "</table>\n",
       "</div>"
      ],
      "text/plain": [
       "            runtime  tomatometer_rating  tomatometer_count  audience_rating  \\\n",
       "count  17397.000000        17667.000000        17667.00000     17415.000000   \n",
       "mean     102.213715           60.884587           57.14179        60.555154   \n",
       "std       18.702997           28.444143           68.37147        20.543621   \n",
       "min        5.000000            0.000000            5.00000         0.000000   \n",
       "25%       90.000000           38.000000           12.00000        45.000000   \n",
       "50%       99.000000           67.000000           28.00000        63.000000   \n",
       "75%      111.000000           86.000000           75.00000        78.000000   \n",
       "max      266.000000          100.000000          574.00000       100.000000   \n",
       "\n",
       "       audience_count  tomatometer_top_critics_count  \\\n",
       "count    1.741400e+04                   17711.000000   \n",
       "mean     1.439477e+05                      14.587036   \n",
       "std      1.763628e+06                      15.146481   \n",
       "min      5.000000e+00                       0.000000   \n",
       "25%      7.072500e+02                       3.000000   \n",
       "50%      4.277000e+03                       8.000000   \n",
       "75%      2.498950e+04                      23.000000   \n",
       "max      3.579764e+07                      69.000000   \n",
       "\n",
       "       tomatometer_fresh_critics_count  tomatometer_rotten_critics_count  \n",
       "count                     17711.000000                      17711.000000  \n",
       "mean                         36.376094                         20.703856  \n",
       "std                          52.602254                         30.249138  \n",
       "min                           0.000000                          0.000000  \n",
       "25%                           6.000000                          3.000000  \n",
       "50%                          16.000000                          8.000000  \n",
       "75%                          44.000000                         24.000000  \n",
       "max                         497.000000                        303.000000  "
      ]
     },
     "execution_count": 16,
     "metadata": {},
     "output_type": "execute_result"
    }
   ],
   "source": [
    "print(\"Numrical Feature Summary:\")\n",
    "movie_df.describe()"
   ]
  },
  {
   "cell_type": "code",
   "execution_count": 27,
   "id": "1fd37a73-4fb2-48ce-ae4d-387ba1444d49",
   "metadata": {},
   "outputs": [
    {
     "name": "stdout",
     "output_type": "stream",
     "text": [
      "\n",
      "Missing Values:\n",
      "                        Missing Count  Missing Precentage\n",
      "critics_consensus                8578           48.433177\n",
      "authors                          1542            8.706454\n",
      "original_release_date            1166            6.583479\n",
      "production_company                499            2.817458\n",
      "audience_status                   448            2.529501\n",
      "streaming_release_date            384            2.168144\n",
      "actors                            352            1.987465\n",
      "movie_info                        321            1.812433\n",
      "runtime                           314            1.772909\n",
      "audience_count                    297            1.676924\n",
      "audience_rating                   296            1.671278\n",
      "directors                         194            1.095364\n",
      "tomatometer_status                 44            0.248433\n",
      "tomatometer_rating                 44            0.248433\n",
      "tomatometer_count                  44            0.248433\n",
      "genres                             19            0.107278\n"
     ]
    }
   ],
   "source": [
    "print(\"\\nMissing Values:\")\n",
    "missing_data = movie_df.isnull().sum()\n",
    "missing_precent = (missing_data / len(movie_df)) * 100\n",
    "M_df = pd.DataFrame({\n",
    "    'Missing Count' : missing_data,\n",
    "    'Missing Precentage' : missing_precent\n",
    "}).sort_values('Missing Precentage', ascending = False)\n",
    "print(M_df[M_df['Missing Count'] > 0])\n"
   ]
  },
  {
   "cell_type": "code",
   "execution_count": 35,
   "id": "50493cb0-2d71-4798-a85b-dd120d35302f",
   "metadata": {},
   "outputs": [
    {
     "name": "stdout",
     "output_type": "stream",
     "text": [
      "\n",
      "Categorical Features:['runtime', 'tomatometer_rating', 'tomatometer_count', 'audience_rating', 'audience_count', 'tomatometer_top_critics_count', 'tomatometer_fresh_critics_count', 'tomatometer_rotten_critics_count']\n",
      "\n",
      " runtime - Unique Values:190\n",
      "runtime\n",
      "90.0     834\n",
      "95.0     603\n",
      "100.0    540\n",
      "93.0     539\n",
      "96.0     511\n",
      "Name: count, dtype: int64\n",
      "\n",
      " tomatometer_rating - Unique Values:101\n",
      "tomatometer_rating\n",
      "100.0    964\n",
      "50.0     438\n",
      "88.0     408\n",
      "67.0     396\n",
      "83.0     396\n",
      "Name: count, dtype: int64\n",
      "\n",
      " tomatometer_count - Unique Values:407\n",
      "tomatometer_count\n",
      "5.0    793\n",
      "6.0    728\n",
      "7.0    666\n",
      "8.0    595\n",
      "9.0    532\n",
      "Name: count, dtype: int64\n",
      "\n",
      " audience_rating - Unique Values:98\n",
      "audience_rating\n",
      "71.0    323\n",
      "72.0    321\n",
      "75.0    319\n",
      "79.0    313\n",
      "78.0    304\n",
      "Name: count, dtype: int64\n",
      "\n",
      " audience_count - Unique Values:11068\n",
      "audience_count\n",
      "5.0     24\n",
      "11.0    22\n",
      "6.0     20\n",
      "71.0    19\n",
      "7.0     18\n",
      "Name: count, dtype: int64\n"
     ]
    }
   ],
   "source": [
    "num_cols = movie_df.select_dtypes(include=['int64', 'float64']).columns\n",
    "print(f\"\\nCategorical Features:{list(num_cols)}\")\n",
    "\n",
    "for col in num_cols[:5]:\n",
    "    print(f\"\\n {col} - Unique Values:{movie_df[col].nunique()}\")\n",
    "    print(movie_df[col].value_counts().head())"
   ]
  },
  {
   "cell_type": "code",
   "execution_count": 33,
   "id": "e7fee959-92d9-47a1-a843-c17dd9b78ecd",
   "metadata": {
    "scrolled": true
   },
   "outputs": [
    {
     "name": "stdout",
     "output_type": "stream",
     "text": [
      "\n",
      "Categorical Features:['rotten_tomatoes_link', 'movie_title', 'movie_info', 'critics_consensus', 'content_rating', 'genres', 'directors', 'authors', 'actors', 'original_release_date', 'streaming_release_date', 'production_company', 'tomatometer_status', 'audience_status']\n",
      "\n",
      " rotten_tomatoes_link - Unique Values:17711\n",
      "rotten_tomatoes_link\n",
      "m/0814255                    1\n",
      "m/phoenix_1998               1\n",
      "m/phyllis_and_harold_2008    1\n",
      "m/photographing_fairies      1\n",
      "m/phone_booth                1\n",
      "Name: count, dtype: int64\n",
      "\n",
      " movie_title - Unique Values:17105\n",
      "movie_title\n",
      "Hamlet                  6\n",
      "Home                    5\n",
      "Alice in Wonderland     4\n",
      "The Three Musketeers    4\n",
      "Robin Hood              4\n",
      "Name: count, dtype: int64\n",
      "\n",
      " movie_info - Unique Values:17388\n",
      "movie_info\n",
      "Wisecracking mercenary Deadpool meets Russell, an angry teenage mutant who lives at an orphanage. When Russell becomes the target of Cable -- a genetically enhanced soldier from the future -- Deadpool realizes that he'll need some help saving the boy from such a superior enemy. He soon joins forces with Bedlam, Shatterstar, Domino and other powerful mutants to protect young Russell from Cable and his advanced weaponry.    2\n",
      "An anthology of horror tales.                                                                                                                                                                                                                                                                                                                                                                                                             2\n",
      "Arizona ants mock the food chain on their way to a desert lab to get two scientists (Nigel Davenport, Michael Murphy) and a woman (Lynne Frederick).                                                                                                                                                                                                                                                                                      1\n",
      "A hapless extraterrestrial (Rob Stefaniuk) finds adventure after his ship crashes in Canada.                                                                                                                                                                                                                                                                                                                                              1\n",
      "A depressed dentist amid a mid-life crisis struggles to come to terms with the reasons why one of his patients who seemed to have it all would commit suicide.                                                                                                                                                                                                                                                                            1\n",
      "Name: count, dtype: int64\n",
      "\n",
      " critics_consensus - Unique Values:9131\n",
      "critics_consensus\n",
      "High Life is as visually arresting as it is challenging, confounding, and ultimately rewarding - which is to say it's everything film fans expect from director Claire Denis.    2\n",
      "Extinction has a few intriguing ideas, but they -- and some game performances from its talented stars -- are lost in the movie's muddled plot and frustrating pacing.            2\n",
      "Though it may seem like just another Harry Potter knockoff, Percy Jackson benefits from a strong supporting cast, a speedy plot, and plenty of fun with Greek mythology.         1\n",
      "Thrilling and thought-provoking, Point and Shoot captures one man's fascinating -- if troublingly narcissistic -- \"crash course in manhood.\"                                     1\n",
      "Please Stand By hits a number of familiar coming-of-age beats, but adds just enough of a Trek-fueled twist to keep things interesting.                                           1\n",
      "Name: count, dtype: int64\n",
      "\n",
      " content_rating - Unique Values:6\n",
      "content_rating\n",
      "R        6377\n",
      "NR       5474\n",
      "PG-13    2978\n",
      "PG       2168\n",
      "G         676\n",
      "Name: count, dtype: int64\n"
     ]
    }
   ],
   "source": [
    "cat_cols = movie_df.select_dtypes(include=['object']).columns\n",
    "print(f\"\\nCategorical Features:{list(cat_cols)}\")\n",
    "\n",
    "for col in cat_cols[:5]:\n",
    "    print(f\"\\n {col} - Unique Values:{movie_df[col].nunique()}\")\n",
    "    print(movie_df[col].value_counts().head())"
   ]
  },
  {
   "cell_type": "code",
   "execution_count": 37,
   "id": "1ab1affb-70c0-4aa3-8589-47ab640fd0bb",
   "metadata": {},
   "outputs": [
    {
     "data": {
      "text/plain": [
       "Index(['rotten_tomatoes_link', 'movie_title', 'movie_info',\n",
       "       'critics_consensus', 'content_rating', 'genres', 'directors', 'authors',\n",
       "       'actors', 'original_release_date', 'streaming_release_date', 'runtime',\n",
       "       'production_company', 'tomatometer_status', 'tomatometer_rating',\n",
       "       'tomatometer_count', 'audience_status', 'audience_rating',\n",
       "       'audience_count', 'tomatometer_top_critics_count',\n",
       "       'tomatometer_fresh_critics_count', 'tomatometer_rotten_critics_count'],\n",
       "      dtype='object')"
      ]
     },
     "execution_count": 37,
     "metadata": {},
     "output_type": "execute_result"
    }
   ],
   "source": [
    "movie_df.columns"
   ]
  },
  {
   "cell_type": "markdown",
   "id": "63f9a23c",
   "metadata": {},
   "source": [
    "### 2.2) Data Visualizations\n",
    "Visualize the data to identify patterns and relationships."
   ]
  },
  {
   "cell_type": "code",
   "execution_count": 58,
   "id": "d8c65ba0",
   "metadata": {},
   "outputs": [
    {
     "data": {
      "text/plain": [
       "<Figure size 640x480 with 0 Axes>"
      ]
     },
     "metadata": {},
     "output_type": "display_data"
    },
    {
     "data": {
      "image/png": "[encoded data removed]",
      "text/plain": [
       "<Figure size 2000x1200 with 6 Axes>"
      ]
     },
     "metadata": {},
     "output_type": "display_data"
    }
   ],
   "source": [
    "def data_visualizations(movie_df):\n",
    "    fig, axes = plt.subplots(2, 3, figsize=(20, 12))\n",
    "    fig.suptitle('Movie Dataset - Exploratory Data Analysis', fontsize = 16)\n",
    "\n",
    "    if 'tomatometer_status' in movie_df.columns:\n",
    "        movie_df['tomatometer_status'].value_counts().plot(kind='bar', ax=axes[0,0])\n",
    "        axes[0,0].set_title('Target variable Distribution')\n",
    "        axes[0,0].set_xlabel('Tomatometer Status')\n",
    "        axes[0,0].set_ylabel('Count')\n",
    "        axes[0,0].tick_params(axis='x', rotation=45)\n",
    "\n",
    "    if 'tomatometer_rating' in movie_df.columns:\n",
    "        axes[0,1].hist(movie_df['tomatometer_rating'].dropna(), bins=90, alpha=0.7)\n",
    "        axes[0,1].set_title('Tomatometer Rating Distribution')\n",
    "        axes[0,1].set_xlabel('Rating')\n",
    "        axes[0,1].set_ylabel('Frequency')\n",
    "\n",
    "    if 'content_rating' in movie_df.columns:\n",
    "        content_counts = movie_df['content_rating'].value_counts()\n",
    "        blue_shades = ['skyblue', 'blue', 'darkblue']\n",
    "        colors = (blue_shades * ((len(content_counts) // len(blue_shades)) + 1))[:len(content_counts)]\n",
    "        axes[0,2].pie(content_counts, labels=content_counts.index, autopct='%1.1f%%', \n",
    "                  startangle=90, colors=colors)\n",
    "        axes[0,2].set_title('Content Rating Distribution')\n",
    "    \n",
    "        centre_circle = plt.Circle((0, 0), 0.70, fc='white')\n",
    "        axes[0,2].add_artist(centre_circle)\n",
    "        axes[0,2].axis('equal')  \n",
    "        \n",
    "\n",
    "    if 'audience_status' in movie_df.columns:\n",
    "        movie_df['audience_status'].value_counts().plot(kind='bar', ax=axes[1,0])\n",
    "        axes[1,0].set_title('Target variable Distribution')\n",
    "        axes[1,0].set_xlabel('Audience Status')\n",
    "        axes[1,0].set_ylabel('Count')\n",
    "        axes[1,0].tick_params(axis='x', rotation=45)\n",
    "\n",
    "    if 'audience_rating' in movie_df.columns:\n",
    "        axes[1,1].hist(movie_df['audience_rating'].dropna(), bins=30, alpha=0.7)\n",
    "        axes[1,1].set_title('Audience Rating Distribution')\n",
    "        axes[1,1].set_xlabel('Rating')\n",
    "        axes[1,1].set_ylabel('Frequency')\n",
    "\n",
    "    if 'runtime' in movie_df.columns:\n",
    "        axes[1,2].hist(movie_df['runtime'].dropna(), bins=30, alpha=0.7)\n",
    "        axes[1,2].set_title('Runtime Distribution')\n",
    "        axes[1,2].set_xlabel('Runtime(minutes)')\n",
    "        axes[1,2].set_ylabel('Frequency')\n",
    "\n",
    "\n",
    "plt.tight_layout()\n",
    "plt.show()\n",
    "\n",
    "\n",
    "data_visualizations(movie_df)\n",
    "        "
   ]
  },
  {
   "cell_type": "code",
   "execution_count": null,
   "id": "e4675168-43a2-4c11-bc0a-bdff92895126",
   "metadata": {},
   "outputs": [],
   "source": []
  },
  {
   "cell_type": "markdown",
   "id": "31a0d0c9",
   "metadata": {},
   "source": [
    "## <b> <font color=green> STEP (3) Data Preparation & Feature Engineering </font> </b>"
   ]
  },
  {
   "cell_type": "markdown",
   "id": "8066e13d",
   "metadata": {},
   "source": [
    "### 3.1) Data Cleaning\n",
    "Handle missing values and outliers."
   ]
  },
  {
   "cell_type": "code",
   "execution_count": null,
   "id": "786dbe9d",
   "metadata": {},
   "outputs": [],
   "source": []
  },
  {
   "cell_type": "markdown",
   "id": "8dc52137",
   "metadata": {},
   "source": [
    "### 3.1) Feature Selection\n",
    "Select the most relevant features for the model."
   ]
  },
  {
   "cell_type": "code",
   "execution_count": null,
   "id": "0cec423a",
   "metadata": {},
   "outputs": [],
   "source": []
  },
  {
   "cell_type": "markdown",
   "id": "6c07b048",
   "metadata": {},
   "source": [
    "### 3.2) Data Transforms\n",
    "Apply transformations to prepare the data for modeling."
   ]
  },
  {
   "cell_type": "code",
   "execution_count": null,
   "id": "759c41b7",
   "metadata": {},
   "outputs": [],
   "source": []
  },
  {
   "cell_type": "markdown",
   "id": "43084664",
   "metadata": {},
   "source": [
    "## <b> <font color=green> STEP (4)  ML Model Selection & Evaluation </font> </b>"
   ]
  },
  {
   "cell_type": "markdown",
   "id": "e35c7064",
   "metadata": {},
   "source": [
    "### 4.1) Split-out Validation Dataset\n",
    "Split the dataset into training and validation sets."
   ]
  },
  {
   "cell_type": "code",
   "execution_count": null,
   "id": "2c076b1f",
   "metadata": {},
   "outputs": [],
   "source": []
  },
  {
   "cell_type": "markdown",
   "id": "60b86d53",
   "metadata": {},
   "source": [
    "### 4.2) Test Options and Evaluation Metric\n",
    "Define the evaluation metric for the model."
   ]
  },
  {
   "cell_type": "code",
   "execution_count": null,
   "id": "8886c258",
   "metadata": {},
   "outputs": [],
   "source": []
  },
  {
   "cell_type": "markdown",
   "id": "83d865b5",
   "metadata": {},
   "source": [
    "### 4.3) Spot Check Algorithms\n",
    "Test multiple algorithms to identify the best-performing one."
   ]
  },
  {
   "cell_type": "code",
   "execution_count": null,
   "id": "f48e912b",
   "metadata": {},
   "outputs": [],
   "source": []
  },
  {
   "cell_type": "markdown",
   "id": "344d39b6",
   "metadata": {},
   "source": [
    "## <b> <font color=green> STEP (4)  Performance Tuning & Optimization </font> </b>"
   ]
  },
  {
   "cell_type": "markdown",
   "id": "315aa69b",
   "metadata": {},
   "source": [
    "### 4.1) Algorithm Tuning\n",
    "Optimize hyperparameters for better performance."
   ]
  },
  {
   "cell_type": "code",
   "execution_count": null,
   "id": "83d48c53",
   "metadata": {},
   "outputs": [],
   "source": []
  },
  {
   "cell_type": "markdown",
   "id": "aa0df54e",
   "metadata": {},
   "source": [
    "### 4.2) Ensembles\n",
    "Combine multiple models to improve accuracy."
   ]
  },
  {
   "cell_type": "code",
   "execution_count": null,
   "id": "051d3e66",
   "metadata": {},
   "outputs": [],
   "source": []
  },
  {
   "cell_type": "markdown",
   "id": "8e47ea8f",
   "metadata": {},
   "source": [
    "## <b> <font color=green> STEP (6) Results Interpretation & Deployment </font> </b>"
   ]
  },
  {
   "cell_type": "markdown",
   "id": "174a8e5e",
   "metadata": {},
   "source": [
    "### 6.1) Predictions on Validation Dataset\n",
    "Make predictions using the validation dataset."
   ]
  },
  {
   "cell_type": "code",
   "execution_count": null,
   "id": "02e4a721",
   "metadata": {},
   "outputs": [],
   "source": []
  },
  {
   "cell_type": "markdown",
   "id": "61b25dc3",
   "metadata": {},
   "source": [
    "### 6.2) Create Standalone Model on Entire Training Dataset\n",
    "Train the final model on the entire dataset."
   ]
  },
  {
   "cell_type": "code",
   "execution_count": null,
   "id": "e4650c5a",
   "metadata": {},
   "outputs": [],
   "source": []
  },
  {
   "cell_type": "markdown",
   "id": "3ce4fee2",
   "metadata": {},
   "source": [
    "### 6.3) Save Model for Later Use\n",
    "Save the trained model to a file."
   ]
  },
  {
   "cell_type": "code",
   "execution_count": null,
   "id": "f99b4d98",
   "metadata": {},
   "outputs": [],
   "source": []
  }
 ],
 "metadata": {
  "kernelspec": {
   "display_name": "(00) Python 3.9 - ML",
   "language": "python",
   "name": "py39_ml"
  },
  "language_info": {
   "codemirror_mode": {
    "name": "ipython",
    "version": 3
   },
   "file_extension": ".py",
   "mimetype": "text/x-python",
   "name": "python",
   "nbconvert_exporter": "python",
   "pygments_lexer": "ipython3",
   "version": "3.9.23"
  }
 },
 "nbformat": 4,
 "nbformat_minor": 5
}
